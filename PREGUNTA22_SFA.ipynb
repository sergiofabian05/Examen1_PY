{
  "nbformat": 4,
  "nbformat_minor": 0,
  "metadata": {
    "colab": {
      "provenance": [],
      "authorship_tag": "ABX9TyNb1QrEWwUvlOSJIqnLKvVw",
      "include_colab_link": true
    },
    "kernelspec": {
      "name": "python3",
      "display_name": "Python 3"
    },
    "language_info": {
      "name": "python"
    }
  },
  "cells": [
    {
      "cell_type": "markdown",
      "metadata": {
        "id": "view-in-github",
        "colab_type": "text"
      },
      "source": [
        "<a href=\"https://colab.research.google.com/github/sergiofabian05/Examen1_PY/blob/main/PREGUNTA22_SFA.ipynb\" target=\"_parent\"><img src=\"https://colab.research.google.com/assets/colab-badge.svg\" alt=\"Open In Colab\"/></a>"
      ]
    },
    {
      "cell_type": "markdown",
      "source": [
        "FABIAN AGUIAR SERGIO\n",
        "\n",
        "Pregunta 22\n",
        "\n",
        "Escribe en google collaboratory una funcion de Python que realice lo siguiente:\n",
        "\n",
        "funcion que retorne una lista con 30 numeros generados aleatorios (20-60) no repetidos\n",
        "\n",
        "Escribir dos bloques de codigo que mande llamar la funcion y desplegar el resultado,\n",
        "\n",
        "bloque 1, llamar funcion y mostrar la lista normal desordenada\n",
        "\n",
        "bloque 2 . llamar funcion y mostrar la lista ordenada\n",
        "\n"
      ],
      "metadata": {
        "id": "wneXunbtNz26"
      }
    },
    {
      "cell_type": "code",
      "source": [
        "import random\n",
        "\n",
        "def generar_num_aleat():\n",
        "    numeros_generados = random.sample(range(20, 61), 30)\n",
        "    return numeros_generados\n",
        "lista_des = generar_num_aleat()\n",
        "print(\"Lista desordenada:\", lista_des)\n",
        "\n",
        "lista_ord = sorted(generar_num_aleat())\n",
        "print(\"Lista ordenada:\", lista_ord)\n"
      ],
      "metadata": {
        "colab": {
          "base_uri": "https://localhost:8080/"
        },
        "id": "vfK-CLCwN2ub",
        "outputId": "e4508c4a-1569-431d-a51c-7c3a7cf7cee9"
      },
      "execution_count": 4,
      "outputs": [
        {
          "output_type": "stream",
          "name": "stdout",
          "text": [
            "Lista desordenada: [50, 35, 45, 28, 29, 43, 51, 23, 40, 37, 49, 57, 48, 42, 59, 54, 31, 44, 58, 21, 24, 39, 60, 53, 52, 55, 56, 41, 27, 20]\n",
            "Lista ordenada: [20, 21, 22, 23, 24, 25, 26, 27, 28, 29, 31, 32, 33, 34, 35, 36, 37, 38, 44, 45, 46, 47, 51, 52, 53, 55, 56, 57, 58, 60]\n"
          ]
        }
      ]
    }
  ]
}