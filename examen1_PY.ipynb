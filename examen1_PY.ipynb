{
  "nbformat": 4,
  "nbformat_minor": 0,
  "metadata": {
    "colab": {
      "provenance": [],
      "authorship_tag": "ABX9TyPAOipahZy8Nljd3KLNnOVa",
      "include_colab_link": true
    },
    "kernelspec": {
      "name": "python3",
      "display_name": "Python 3"
    },
    "language_info": {
      "name": "python"
    }
  },
  "cells": [
    {
      "cell_type": "markdown",
      "metadata": {
        "id": "view-in-github",
        "colab_type": "text"
      },
      "source": [
        "<a href=\"https://colab.research.google.com/github/sergiofabian05/Examen1_PY/blob/main/examen1_PY.ipynb\" target=\"_parent\"><img src=\"https://colab.research.google.com/assets/colab-badge.svg\" alt=\"Open In Colab\"/></a>"
      ]
    },
    {
      "cell_type": "markdown",
      "source": [
        "Pregunta 21\n",
        "\n",
        "Escribe en google collaboratory una funcion de Python que realice lo siguiente:\n",
        "\n",
        "funcion que retorne el resultado del area de un triangulo\n",
        "\n",
        "Escribir codigo que mande llamar la funcion y desplegar el resultado,\n",
        "\n",
        "Pedir al usuario los datos de entrada y VALIDAR datos entrada"
      ],
      "metadata": {
        "id": "p-8BMl54Ixu3"
      }
    },
    {
      "cell_type": "code",
      "source": [
        "def calcularareatriangulo(base, altura):\n",
        "    if base <= 0 or altura <= 0:\n",
        "        raise ValueError(\"La base y la altura deben ser números positivos.\")\n",
        "    area = (base * altura) / 2\n",
        "    return area\n",
        "def main():\n",
        "    try:\n",
        "        base = float(input(\"Ingrese la base del triángulo: \"))\n",
        "        altura = float(input(\"Ingrese la altura del triángulo: \"))\n",
        "\n",
        "        area = calcularareatriangulo(base, altura)\n",
        "        print(\"El área del triángulo es:\", area)\n",
        "\n",
        "    except ValueError as e:\n",
        "        print(\"Error:\", e)\n",
        "\n",
        "main()"
      ],
      "metadata": {
        "colab": {
          "base_uri": "https://localhost:8080/"
        },
        "id": "KlKr3kneIyv-",
        "outputId": "1bb72163-7f1c-46fd-f941-4ad23884b713"
      },
      "execution_count": 15,
      "outputs": [
        {
          "output_type": "stream",
          "name": "stdout",
          "text": [
            "Ingrese la base del triángulo: 7\n",
            "Ingrese la altura del triángulo: 6\n",
            "El área del triángulo es: 21.0\n"
          ]
        }
      ]
    }
  ]
}